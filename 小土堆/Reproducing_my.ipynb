{
 "cells": [
  {
   "cell_type": "markdown",
   "metadata": {},
   "source": [
    "复现一下小土堆的完整模型训练，使用pytorch训练需要这几步：\n",
    "(1)准备数据建立dataloader 关键库：torch.torchvision.dataset, Dataloader\n",
    "(2)建立模型。关键库torch.nn.Module 卷积核 线性核 激活函数\n",
    "(3)进行训练。关键点 loss_fn(criterion), losses = [], optimizer, loss,每次backward()之前要注意梯度清零 \n",
    "(4)进行测试。无梯度的时候进行forward,计算平均精度 保存模型\n",
    "(5)推理测试。"
   ]
  },
  {
   "cell_type": "code",
   "execution_count": 1,
   "metadata": {},
   "outputs": [],
   "source": [
    "import torch \n",
    "import torchvision\n",
    "import torch.nn as nn\n",
    "from torch.utils.data import DataLoader\n",
    "device = torch.device('cuda')\n",
    "\n",
    "#准备数据\n",
    "def prepare_data(path):\n",
    "    train = torchvision.datasets.CIFAR10(path,train=True, transform=torchvision.transforms.ToTensor(), download=True)\n",
    "    test = torchvision.datasets.CIFAR10(path,train=False, transform=torchvision.transforms.ToTensor(), download=True)\n",
    "    print(f\"train_length: {len(train)}\")\n",
    "    print(f\"test_length: {len(test)}\")\n",
    "    train_dl = DataLoader(train, batch_size=32, shuffle=True)\n",
    "    test_dl = DataLoader(test, batch_size=64, shuffle=False)\n",
    "    return train_dl, test_dl\n",
    "\n",
    "class Mymodel(nn.Module):\n",
    "    def __init__(self):\n",
    "        super().__init__()\n",
    "        self.model1 = nn.Sequential(\n",
    "            nn.Conv2d(3,32,5,1,2), nn.ReLU(),\n",
    "            nn.MaxPool2d(2),\n",
    "            nn.Conv2d(32,32,5,1,2), nn.ReLU(),\n",
    "            nn.MaxPool2d(2),\n",
    "            nn.Conv2d(32,64,5,1,2), nn.ReLU(),\n",
    "            nn.MaxPool2d(2),\n",
    "            nn.Flatten(),\n",
    "            nn.Linear(64*4*4,64),\n",
    "            nn.Linear(64,10)\n",
    "        )\n",
    "    \n",
    "    def forward(self,x):\n",
    "        x = self.model1(x)\n",
    "        return x\n"
   ]
  },
  {
   "cell_type": "code",
   "execution_count": null,
   "metadata": {},
   "outputs": [
    {
     "name": "stdout",
     "output_type": "stream",
     "text": [
      "Files already downloaded and verified\n",
      "Files already downloaded and verified\n",
      "train_length: 50000\n",
      "test_length: 10000\n",
      "Epoch:1/51, loss: 1.6800\n",
      "Epoch:2/51, loss: 1.2421\n",
      "Epoch:3/51, loss: 1.0791\n",
      "Epoch:4/51, loss: 0.9568\n",
      "Epoch:5/51, loss: 0.8687\n",
      "Epoch:6/51, loss: 0.8180\n",
      "Epoch:7/51, loss: 0.7593\n",
      "Epoch:8/51, loss: 0.7241\n",
      "Epoch:9/51, loss: 0.6931\n",
      "Epoch:10/51, loss: 0.6656\n",
      "Epoch:11/51, loss: 0.6379\n",
      "Epoch:12/51, loss: 0.6228\n",
      "Epoch:13/51, loss: 0.6074\n",
      "Epoch:14/51, loss: 0.5938\n",
      "Epoch:15/51, loss: 0.5859\n",
      "Epoch:16/51, loss: 0.5742\n",
      "Epoch:17/51, loss: 0.5735\n",
      "Epoch:18/51, loss: 0.5526\n",
      "Epoch:19/51, loss: 0.5619\n",
      "Epoch:20/51, loss: 0.5487\n",
      "Epoch:21/51, loss: 0.5566\n",
      "Epoch:22/51, loss: 0.5404\n",
      "Epoch:23/51, loss: 0.5414\n",
      "Epoch:24/51, loss: 0.5473\n",
      "Epoch:25/51, loss: 0.5433\n",
      "Epoch:26/51, loss: 0.5224\n",
      "Epoch:27/51, loss: 0.5260\n",
      "Epoch:28/51, loss: 0.5377\n",
      "Epoch:29/51, loss: 0.5179\n",
      "Epoch:30/51, loss: 0.5250\n",
      "Epoch:31/51, loss: 0.5394\n",
      "Epoch:32/51, loss: 0.5260\n",
      "Epoch:33/51, loss: 0.5329\n",
      "Epoch:34/51, loss: 0.5165\n",
      "Epoch:35/51, loss: 0.5024\n",
      "Epoch:36/51, loss: 0.5418\n",
      "Epoch:37/51, loss: 0.5344\n",
      "Epoch:38/51, loss: 0.5368\n",
      "Epoch:39/51, loss: 0.5403\n",
      "Epoch:40/51, loss: 0.5230\n",
      "Epoch:41/51, loss: 0.5379\n",
      "Epoch:42/51, loss: 0.5325\n",
      "Epoch:43/51, loss: 0.5532\n",
      "Epoch:44/51, loss: 0.5398\n",
      "Epoch:45/51, loss: 0.5580\n",
      "Epoch:46/51, loss: 0.5400\n",
      "Epoch:47/51, loss: 0.5379\n",
      "Epoch:48/51, loss: 0.5265\n",
      "Epoch:49/51, loss: 0.5478\n",
      "Epoch:50/51, loss: 0.5411\n"
     ]
    },
    {
     "data": {
      "image/png": "[encoded data removed]",
      "text/plain": [
       "<Figure size 432x288 with 1 Axes>"
      ]
     },
     "metadata": {
      "needs_background": "light"
     },
     "output_type": "display_data"
    },
    {
     "name": "stdout",
     "output_type": "stream",
     "text": [
      "Accuary: 0.6428999900817871\n"
     ]
    }
   ],
   "source": [
    "from matplotlib import pyplot as plt\n",
    "def train_model(train_dl, model,epochs):\n",
    "    criterion = nn.CrossEntropyLoss()\n",
    "    optimizer = torch.optim.SGD(model.parameters(),lr=0.01,momentum=0.9)\n",
    "    losses = []\n",
    "    model.to(device)\n",
    "    for epoch in range(epochs):\n",
    "        model.train()\n",
    "        running_loss = 0.0\n",
    "        for data in train_dl:\n",
    "            imgs, targets = data\n",
    "            imgs = imgs.to(device)\n",
    "            targets = targets.to(device)\n",
    "            yhat = model(imgs)\n",
    "            loss = criterion(yhat,targets)\n",
    "            optimizer.zero_grad()\n",
    "            loss.backward()\n",
    "            optimizer.step()\n",
    "            running_loss += loss.item()\n",
    "        avg_loss = running_loss / len(train_dl)\n",
    "        losses.append(avg_loss)\n",
    "        print(f\"Epoch:{epoch + 1}/{epochs}, loss: {avg_loss:.4f}\")\n",
    "    plt.plot(range(1, epochs+1), losses, marker='o')\n",
    "    plt.xlabel('Epochs')\n",
    "    plt.ylabel('loss')\n",
    "    plt.title('Training loss over time')\n",
    "    plt.show()\n",
    "    \n",
    "def evaluate_model(test_dl, model):\n",
    "    model.to(device)\n",
    "    model.eval()\n",
    "    total_acc = 0.0\n",
    "    with torch.no_grad():\n",
    "        for data in test_dl:\n",
    "            imgs, targets = data\n",
    "            imgs = imgs.to(device)\n",
    "            targets = targets.to(device)\n",
    "            yhat = model(imgs)\n",
    "            acc = (yhat.argmax(1) == targets).sum()\n",
    "            total_acc += acc\n",
    "    total_acc = total_acc / len(test_dl.dataset)\n",
    "    return total_acc\n",
    "\n",
    "if __name__ == '__main__':\n",
    "    path = './dataset'\n",
    "    train_dl,test_dl = prepare_data(path)\n",
    "    mymodel = Mymodel()\n",
    "    train_model(train_dl, mymodel, 50)\n",
    "    acc = evaluate_model(test_dl, mymodel)\n",
    "    print(f\"Accuary: {acc}\")\n",
    "    torch.save(mymodel.state_dict(),'mymodel_CIFAR10.pth')"
   ]
  },
  {
   "cell_type": "code",
   "execution_count": 11,
   "metadata": {},
   "outputs": [
    {
     "name": "stdout",
     "output_type": "stream",
     "text": [
      "<PIL.Image.Image image mode=RGB size=474x295 at 0x2A5821E4780>\n",
      "torch.Size([3, 32, 32])\n",
      "识别结果为：airplane\n"
     ]
    }
   ],
   "source": [
    "#验证模型有效性：\n",
    "from PIL import Image\n",
    "class_names = ['airplane', 'automobile', 'bird', 'cat', 'deer',\n",
    "               'dog', 'frog', 'horse','ship', 'truck']\n",
    "\n",
    "image_path = './images/plane1.jpeg'\n",
    "img = Image.open(image_path)\n",
    "img = img.convert(\"RGB\")\n",
    "print(img)\n",
    "device = torch.device('cuda')\n",
    "transform = torchvision.transforms.Compose([torchvision.transforms.Resize((32, 32)),\n",
    "                                            torchvision.transforms.ToTensor()])\n",
    "img = transform(img)\n",
    "print(img.shape)\n",
    "model = Mymodel()\n",
    "model.load_state_dict(torch.load('mymodel_CIFAR10.pth', map_location=device))\n",
    "model.to(device)\n",
    "model.eval()\n",
    "img = torch.reshape(img,(1,3,32,32))\n",
    "img = img.to(device)\n",
    "with torch.no_grad():\n",
    "    output = model(img)\n",
    "print(f'识别结果为：{class_names[output.argmax(1).item()]}')\n"
   ]
  }
 ],
 "metadata": {
  "kernelspec": {
   "display_name": "pytorch",
   "language": "python",
   "name": "python3"
  },
  "language_info": {
   "codemirror_mode": {
    "name": "ipython",
    "version": 3
   },
   "file_extension": ".py",
   "mimetype": "text/x-python",
   "name": "python",
   "nbconvert_exporter": "python",
   "pygments_lexer": "ipython3",
   "version": "3.6.13"
  }
 },
 "nbformat": 4,
 "nbformat_minor": 2
}
